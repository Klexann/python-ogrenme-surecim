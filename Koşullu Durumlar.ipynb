{
 "cells": [
  {
   "cell_type": "code",
   "execution_count": 2,
   "metadata": {},
   "outputs": [
    {
     "name": "stdout",
     "output_type": "stream",
     "text": [
      "Yaşınızı Yazınız: 17\n",
      "Ehliyet almaya uygun yaşta değilsiniz.\n"
     ]
    }
   ],
   "source": [
    "yaş = int(input(\"Yaşınızı Yazınız: \"))\n",
    "\n",
    "if (yaş<18):\n",
    "   print(\"Ehliyet almaya uygun yaşta değilsiniz.\")"
   ]
  },
  {
   "cell_type": "code",
   "execution_count": 3,
   "metadata": {},
   "outputs": [
    {
     "name": "stdout",
     "output_type": "stream",
     "text": [
      "Yaşınızı Yazınız: 19\n",
      "Ehliyet almaya uygun yaştasınız.\n"
     ]
    }
   ],
   "source": [
    "yaş = int(input(\"Yaşınızı Yazınız: \"))\n",
    "\n",
    "if (yaş=<18):\n",
    "   print(\"Ehliyet almaya uygun yaşta değilsiniz.\")\n",
    "else:\n",
    "    print(\"Ehliyet almaya uygun yaştasınız.\")"
   ]
  },
  {
   "cell_type": "code",
   "execution_count": 5,
   "metadata": {},
   "outputs": [
    {
     "name": "stdout",
     "output_type": "stream",
     "text": [
      "Sayı değeri giriniz: -1\n",
      "Negatif bir değer girdiniz.\n"
     ]
    }
   ],
   "source": [
    "sayi = int(input(\"Sayı değeri giriniz: \"))\n",
    "\n",
    "if ( sayi<0):\n",
    "    print(\"Negatif bir değer girdiniz.\")\n",
    "else:\n",
    "    print(\"Pozitif bir değer girdiniz.\")"
   ]
  },
  {
   "cell_type": "code",
   "execution_count": 7,
   "metadata": {},
   "outputs": [
    {
     "name": "stdout",
     "output_type": "stream",
     "text": [
      "Karakter Seçiniz: 4. Karakter\n",
      "Geçersiz Karakter...\n"
     ]
    }
   ],
   "source": [
    "seçim = input(\"Karakter Seçiniz: \")\n",
    "\n",
    "if seçim == \"1. Karakter\":\n",
    "    print(\"1. Karakter Seçildi.\")\n",
    "elif seçim == \"2. Karakter\":\n",
    "    print(\"2. Karakter Seçildi.\")\n",
    "elif seçim == \"3. Karakter\":\n",
    "    print(\"3. Karakter Seçildi.\")\n",
    "else:\n",
    "    print(\"Geçersiz Karakter...\")\n"
   ]
  },
  {
   "cell_type": "code",
   "execution_count": null,
   "metadata": {},
   "outputs": [],
   "source": []
  }
 ],
 "metadata": {
  "kernelspec": {
   "display_name": "Python 3",
   "language": "python",
   "name": "python3"
  },
  "language_info": {
   "codemirror_mode": {
    "name": "ipython",
    "version": 3
   },
   "file_extension": ".py",
   "mimetype": "text/x-python",
   "name": "python",
   "nbconvert_exporter": "python",
   "pygments_lexer": "ipython3",
   "version": "3.8.5"
  }
 },
 "nbformat": 4,
 "nbformat_minor": 4
}
