{
 "cells": [
  {
   "cell_type": "code",
   "execution_count": 1,
   "metadata": {},
   "outputs": [
    {
     "name": "stdout",
     "output_type": "stream",
     "text": [
      "Problem-1 Kullanıcıdan aldığınız 3 sayıyı çarpınız.\n"
     ]
    }
   ],
   "source": [
    "print(\"Problem-1 Kullanıcıdan aldığınız 3 sayıyı çarpınız.\")"
   ]
  },
  {
   "cell_type": "code",
   "execution_count": 3,
   "metadata": {},
   "outputs": [
    {
     "name": "stdout",
     "output_type": "stream",
     "text": [
      "1.Sayı--1\n",
      "2.Sayı--2\n",
      "3.Sayı--15\n",
      " 1 . 2 . 15 = 30 olur.\n"
     ]
    }
   ],
   "source": [
    "c= int(input(\"1.Sayı--\"))\n",
    "b= int(input(\"2.Sayı--\"))\n",
    "a= int(input(\"3.Sayı--\"))\n",
    "\n",
    "çarpma = a*b*c\n",
    "\n",
    "print(\" {} . {} . {} = {} olur.\".format(c,b,a,çarpma))"
   ]
  },
  {
   "cell_type": "code",
   "execution_count": 4,
   "metadata": {},
   "outputs": [
    {
     "name": "stdout",
     "output_type": "stream",
     "text": [
      "Problem-2 Kullanıcıdan aldığınız boy ve kilo değerlerine göre kullanıcının beden kitle indeksini bulun.\n"
     ]
    }
   ],
   "source": [
    "print(\"Problem-2 Kullanıcıdan aldığınız boy ve kilo değerlerine göre kullanıcının beden kitle indeksini bulun.\")"
   ]
  },
  {
   "cell_type": "code",
   "execution_count": 7,
   "metadata": {},
   "outputs": [
    {
     "name": "stdout",
     "output_type": "stream",
     "text": [
      "Kilonuz:102\n",
      "Boyunuz:1.84\n",
      "Kitle Endeksiniz:  30.12759924385633\n"
     ]
    }
   ],
   "source": [
    "a = int(input(\"Kilonuz:\"))\n",
    "b = float(input(\"Boyunuz:\"))\n",
    "\n",
    "print(\"Kitle Endeksiniz: \",a/ (b**2))"
   ]
  },
  {
   "cell_type": "code",
   "execution_count": 8,
   "metadata": {},
   "outputs": [
    {
     "name": "stdout",
     "output_type": "stream",
     "text": [
      "Problem-3 Bir aracın kilometrede ne kadar yaktığı ve kaç kilometre yol yaptığı bilgilerini alın ve sürücünü toplam ne kadar ödemesini gerektiğini hesaplayın.\n"
     ]
    }
   ],
   "source": [
    "print(\"Problem-3 Bir aracın kilometrede ne kadar yaktığı ve kaç kilometre yol yaptığı bilgilerini alın ve sürücünü toplam ne kadar ödemesini gerektiğini hesaplayın.\")"
   ]
  },
  {
   "cell_type": "code",
   "execution_count": 9,
   "metadata": {},
   "outputs": [
    {
     "name": "stdout",
     "output_type": "stream",
     "text": [
      "Kilometrede Yakılan Değer :1.2\n",
      "Kaç km Mesafe Gittiniz? :22.4\n",
      "Tutar : 26.88 TL'dir.\n"
     ]
    }
   ],
   "source": [
    "a= float(input(\"Kilometrede Yakılan Değer :\"))\n",
    "b= float(input(\"Kaç km Mesafe Gittiniz? :\"))\n",
    "print(\"Tutar : {} TL'dir.\".format(a*b))"
   ]
  },
  {
   "cell_type": "code",
   "execution_count": 10,
   "metadata": {},
   "outputs": [
    {
     "name": "stdout",
     "output_type": "stream",
     "text": [
      "Problem-4 Kullanıcıdan ad,soyad ve numara bilgisini alarak bunları alt alta ekrana yazdırın.\n"
     ]
    }
   ],
   "source": [
    "print(\"Problem-4 Kullanıcıdan ad,soyad ve numara bilgisini alarak bunları alt alta ekrana yazdırın.\")"
   ]
  },
  {
   "cell_type": "code",
   "execution_count": 11,
   "metadata": {},
   "outputs": [
    {
     "name": "stdout",
     "output_type": "stream",
     "text": [
      "Ad: Eray\n",
      "Soyad: Yılmaz\n",
      "Numara: 0531 765 54 46\n",
      "\n",
      "Bilgileriniz-->\n",
      "\n",
      "Eray\n",
      "Yılmaz\n",
      "0531 765 54 46\n",
      "\n"
     ]
    }
   ],
   "source": [
    "ad = input(\"Ad: \")\n",
    "soyad = input(\"Soyad: \")\n",
    "numara_bilginiz = input(\"Numara: \")\n",
    "\n",
    "print(\"\\nBilgileriniz-->\\n\")\n",
    "print(\"{}\\n{}\\n{}\\n\".format(ad,soyad,numara_bilginiz))"
   ]
  },
  {
   "cell_type": "code",
   "execution_count": 12,
   "metadata": {},
   "outputs": [
    {
     "name": "stdout",
     "output_type": "stream",
     "text": [
      "Problem-5 Kullanıcıdan iki tane sayı isteyin ve bu sayıların değerlerini birbirleriyle değiştirin.\n"
     ]
    }
   ],
   "source": [
    "print(\"Problem-5 Kullanıcıdan iki tane sayı isteyin ve bu sayıların değerlerini birbirleriyle değiştirin.\")"
   ]
  },
  {
   "cell_type": "code",
   "execution_count": 13,
   "metadata": {},
   "outputs": [
    {
     "name": "stdout",
     "output_type": "stream",
     "text": [
      "1.Sayı: 15\n",
      "2.Sayı: 99\n",
      "Değiştirilmeden Önceki Girdiğiniz Sayılar \n",
      " a:15 b:99 \n",
      "Değiştirildikten Sonraki Sayılar \n",
      " a:99 b:15 \n"
     ]
    }
   ],
   "source": [
    "a=input(\"1.Sayı: \")\n",
    "b=input(\"2.Sayı: \")\n",
    "\n",
    "print(\"Değiştirilmeden Önceki Girdiğiniz Sayılar \\n a:{} b:{} \".format(a,b))\n",
    "\n",
    "a,b=b,a\n",
    "\n",
    "print(\"Değiştirildikten Sonraki Sayılar \\n a:{} b:{} \".format(a,b))"
   ]
  },
  {
   "cell_type": "code",
   "execution_count": 14,
   "metadata": {},
   "outputs": [
    {
     "name": "stdout",
     "output_type": "stream",
     "text": [
      "Problem-6 Kullanıcıdan bir dik üçgenin dik olan iki kenarını(a,b) alın ve hipotenüs uzunluğunu bulmaya çalışın.\n"
     ]
    }
   ],
   "source": [
    "print(\"Problem-6 Kullanıcıdan bir dik üçgenin dik olan iki kenarını(a,b) alın ve hipotenüs uzunluğunu bulmaya çalışın.\")"
   ]
  },
  {
   "cell_type": "code",
   "execution_count": 17,
   "metadata": {},
   "outputs": [
    {
     "name": "stdout",
     "output_type": "stream",
     "text": [
      "1. Dik Kenarın Uzunluğu: 3\n",
      "2. Dik Kenarın Uzunluğu: 4\n",
      "Hipotenüsün Uzunluğu: 5.0 \n"
     ]
    }
   ],
   "source": [
    "a=int(input(\"1. Dik Kenarın Uzunluğu: \"))\n",
    "b=int(input(\"2. Dik Kenarın Uzunluğu: \"))\n",
    "c = (a**2 + b**2) ** 0.5\n",
    "print(\"Hipotenüsün Uzunluğu: {} \".format(c))"
   ]
  },
  {
   "cell_type": "code",
   "execution_count": null,
   "metadata": {},
   "outputs": [],
   "source": []
  }
 ],
 "metadata": {
  "kernelspec": {
   "display_name": "Python 3",
   "language": "python",
   "name": "python3"
  },
  "language_info": {
   "codemirror_mode": {
    "name": "ipython",
    "version": 3
   },
   "file_extension": ".py",
   "mimetype": "text/x-python",
   "name": "python",
   "nbconvert_exporter": "python",
   "pygments_lexer": "ipython3",
   "version": "3.8.5"
  }
 },
 "nbformat": 4,
 "nbformat_minor": 4
}
